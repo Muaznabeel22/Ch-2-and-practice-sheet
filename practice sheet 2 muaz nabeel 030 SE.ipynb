{
 "cells": [
  {
   "cell_type": "markdown",
   "metadata": {},
   "source": [
    "# Python User Define Function Practice Activity - 2 "
   ]
  },
  {
   "cell_type": "markdown",
   "metadata": {},
   "source": [
    "Asst. Prof. Syed Faisal Ali              $\\;\\;\\;\\;\\;\\;$              Programming Fundamentals - FALL 2019 $\\;\\;\\;\\;\\;\\;$ Software Engineering                     $\\;\\;\\;\\;\\;\\;$                   Dated: 27 Nov 2019"
   ]
  },
  {
   "cell_type": "markdown",
   "metadata": {},
   "source": [
    "Question 1: Create a function to find the following:\n",
    "If the base of triangle is 3 cm long and its equilateral triangle and the radius of circle is 1.5 cm then find the area of triangle shaded. \n"
   ]
  },
  {
   "cell_type": "markdown",
   "metadata": {},
   "source": [
    "![proj](q1.jpg)"
   ]
  },
  {
   "cell_type": "code",
   "execution_count": 24,
   "metadata": {},
   "outputs": [
    {
     "name": "stdout",
     "output_type": "stream",
     "text": [
      "2.598076211353316\n",
      "3.897114317029974\n",
      "7.0685834705770345\n"
     ]
    }
   ],
   "source": [
    "#q1(timecontain(10min))\n",
    "from math import pi,sqrt\n",
    "def shaded ():\n",
    "    base_t = 3\n",
    "    radius_c = 1.5\n",
    "    height_t = sqrt(3**2 - 1.5**2)\n",
    "    print(height_t)\n",
    "    #A=1/2(b*h)\n",
    "    Area_t= (base_t*height_t)/2\n",
    "    print(Area_t)\n",
    "    #A=pi*R**2\n",
    "    Area_c = pi * radius_c**2\n",
    "    print(Area_c)\n",
    "    \n",
    "shaded()"
   ]
  },
  {
   "cell_type": "markdown",
   "metadata": {},
   "source": [
    "Question 2: Create a function which can read a dictionary of your family members such as 5 members. \n",
    "1 Abbu, 1 Ammi, 2 Brothers 1 Sister. Now feed this data in dictionary in terms of name and relations.\n",
    "The UDF will ask findrelation() in this you will enter Brother it will return the names of two brothers you have inserted. In case if the relation is not found it will return “Sorry the relation doesn’t exist in your family.” \n"
   ]
  },
  {
   "cell_type": "code",
   "execution_count": 25,
   "metadata": {},
   "outputs": [
    {
     "name": "stdout",
     "output_type": "stream",
     "text": [
      "Sorry relation doesn't exist in your family\n"
     ]
    }
   ],
   "source": [
    "#q2 time(14min)\n",
    "def findrelation(Relation):\n",
    "    family = {'mother' : ['shanila'] , 'father' : ['nabeel'] , 'sister' : ['maham']  }\n",
    "    if Relation.lower() in family:\n",
    "        \n",
    "        print(family.get(Relation.lower()))\n",
    "        \n",
    "    else:\n",
    "        print(\"Sorry relation doesn't exist in your family\")\n",
    "findrelation('brother')\n",
    "    "
   ]
  },
  {
   "cell_type": "markdown",
   "metadata": {},
   "source": [
    "Question 3: Create a function to find the following:\n",
    "If the base of triangle is 5 cm long and its equilateral triangle and the radius of circle is 2.25 cm then find the area of triangle shaded. \n"
   ]
  },
  {
   "cell_type": "markdown",
   "metadata": {},
   "source": [
    "![proj](q3.jpg)"
   ]
  },
  {
   "cell_type": "code",
   "execution_count": 89,
   "metadata": {},
   "outputs": [
    {
     "name": "stdout",
     "output_type": "stream",
     "text": [
      "Area of triangle shaded = 15.90cm²\n"
     ]
    }
   ],
   "source": [
    "#q3 time(20min)\n",
    "from math import pi,sqrt\n",
    "def Area():\n",
    "    base_of_triangle = 5\n",
    "    radius_of_circle = 2.25\n",
    "    height_of_triangle = sqrt(3**2 - 1.5**2)\n",
    "    Area_of_triangle = 6 * (2.25 * base_of_triangle * height_of_triangle)\n",
    "    Area_of_circle = pi * radius_of_circle**2\n",
    "    \n",
    "    print(\"Area of triangle shaded = {0:.{1}f}cm\\u00b2\".format(Area_of_circle,2))\n",
    "    \n",
    "Area()"
   ]
  },
  {
   "cell_type": "markdown",
   "metadata": {},
   "source": [
    "Question 4:\n",
    "Create a function that takes a list of random numbers from users and add only those which are even. If all the numbers are odd it will return sorry no even number found.\n"
   ]
  },
  {
   "cell_type": "code",
   "execution_count": 4,
   "metadata": {},
   "outputs": [
    {
     "name": "stdout",
     "output_type": "stream",
     "text": [
      "Enter the value of number : 2\n",
      "Enter the value of number : 4\n",
      "Enter the value of number : 6\n",
      "Add only Even Numbers =  12\n"
     ]
    }
   ],
   "source": [
    "#q4 time(12min)\n",
    "def even():\n",
    "    a = [0,0,0]\n",
    "    add = 0\n",
    "    for i in range(3):\n",
    "        a[i]=int(input(\"Enter the value of number : \"))\n",
    "    \n",
    "    for i in a:\n",
    "        if i%2==0:\n",
    "            add = add + i\n",
    "    print(\"Add only Even Numbers = \",add)\n",
    "    \n",
    "even()"
   ]
  },
  {
   "cell_type": "markdown",
   "metadata": {},
   "source": [
    "Question 5:\n",
    "Write a function which can take a list of numbers and it will return sorted list.\n"
   ]
  },
  {
   "cell_type": "code",
   "execution_count": 8,
   "metadata": {},
   "outputs": [
    {
     "name": "stdout",
     "output_type": "stream",
     "text": [
      "Enter the Numbers : 2\n",
      "Enter the Numbers : 4\n",
      "Enter the Numbers : 5\n",
      "[2, 4, 5]\n"
     ]
    }
   ],
   "source": [
    "#q5 time(8min)\n",
    "def sortedlist():\n",
    "    a = [0,0,0]\n",
    "    add = 0\n",
    "    for i in range(3):\n",
    "        a[i]=int(input(\"Enter the Numbers : \"))\n",
    "    a.sort()\n",
    "    print(a)\n",
    "    \n",
    "sortedlist()"
   ]
  },
  {
   "cell_type": "markdown",
   "metadata": {},
   "source": [
    "Question 6:\n",
    "Write a function that will take the radius and return the perimeter and area of circle with 5% increment.\n"
   ]
  },
  {
   "cell_type": "code",
   "execution_count": 9,
   "metadata": {},
   "outputs": [
    {
     "name": "stdout",
     "output_type": "stream",
     "text": [
      "Original Area : 28.27cm² \n",
      "Area with 5% increment : 29.69cm \n",
      "\n",
      "\n",
      "Original Perimeter : 18.85cm² \n",
      "Perimeter with 5% increment : 19.79cm \n"
     ]
    }
   ],
   "source": [
    "#q6 time(25min)\n",
    "from math import pi\n",
    "def increment(r):\n",
    "    AreaO = pi * r**2\n",
    "    PerimeterO = 2 * pi * r\n",
    "    AreaI= (AreaO/100)*105\n",
    "    PerimeterI = (PerimeterO/100)*105\n",
    "    print(\"Original Area : {0:.{1}f}cm\\u00b2 \".format(AreaO,2))\n",
    "    print(\"Area with 5% increment : {0:.{1}f}cm \".format(AreaI,2))\n",
    "    print(\"\\n\")\n",
    "    print(\"Original Perimeter : {0:.{1}f}cm\\u00b2 \".format(PerimeterO,2))\n",
    "    print(\"Perimeter with 5% increment : {0:.{1}f}cm \".format(PerimeterI,2))\n",
    "increment(3)"
   ]
  },
  {
   "cell_type": "markdown",
   "metadata": {},
   "source": [
    "Question 7:\n",
    "Write a function that will take the strings as argument and return number of vowels and consonants.\n"
   ]
  },
  {
   "cell_type": "code",
   "execution_count": 14,
   "metadata": {},
   "outputs": [
    {
     "name": "stdout",
     "output_type": "stream",
     "text": [
      "Enter a String : Muaz Nabeel\n",
      "Total Number of Vowels :  5\n",
      "Total Number of Consonants :  0\n"
     ]
    }
   ],
   "source": [
    "#q7 time(8min)\n",
    "def numbers():\n",
    "    total_1 = 0\n",
    "    count_1 = 0\n",
    "    string = input(\"Enter a String : \")\n",
    "    \n",
    "    for i in string:\n",
    "        if i in 'aeiouAEIOU':\n",
    "            total_1 = total_1 + 1\n",
    "        else:\n",
    "            count = count_1 + 1\n",
    "    print(\"Total Number of Vowels : \",total_1)\n",
    "    print(\"Total Number of Consonants : \",count_1)\n",
    "numbers()"
   ]
  },
  {
   "cell_type": "markdown",
   "metadata": {},
   "source": [
    "Question 8:\n",
    "Write a function that will take length and breadth for a rectangle and return perimeter and area of rectangle with 8% increment.\n"
   ]
  },
  {
   "cell_type": "code",
   "execution_count": 1,
   "metadata": {},
   "outputs": [
    {
     "name": "stdout",
     "output_type": "stream",
     "text": [
      "enter length of rectangle : 2\n",
      "enter bredth of rectangle : 4\n",
      "Original Area : 8.00cm² \n",
      "Area with 8% increment : 8.64cm \n",
      "\n",
      "\n",
      "Original Perimeter : 12.00cm² \n",
      "Perimeter with 8% increment : 12.96cm \n"
     ]
    }
   ],
   "source": [
    "#q8 time(5min)\n",
    "def increment():\n",
    "    l = int(input(\"enter length of rectangle : \"))\n",
    "    b = int(input(\"enter bredth of rectangle : \"))\n",
    "    Area_Output = (l * b)\n",
    "    Perimeter_Output = 2*(l+b)\n",
    "    Area_Input= (Area_Output/100)*108\n",
    "    Perimeter_Input = (Perimeter_Output/100)*108\n",
    "    print(\"Original Area : {0:.{1}f}cm\\u00b2 \".format(Area_Output,2))\n",
    "    print(\"Area with 8% increment : {0:.{1}f}cm \".format(Area_Input,2))\n",
    "    print(\"\\n\")\n",
    "    print(\"Original Perimeter : {0:.{1}f}cm\\u00b2 \".format(Perimeter_Output,2))\n",
    "    print(\"Perimeter with 8% increment : {0:.{1}f}cm \".format(Perimeter_Input,2))\n",
    "increment()"
   ]
  },
  {
   "cell_type": "markdown",
   "metadata": {},
   "source": [
    "Question 9:\n",
    "Write a function that can take the numbers in strings. From string find which number is even and which one is odd. Save them in two different lists and generate the result.\n"
   ]
  },
  {
   "cell_type": "code",
   "execution_count": 2,
   "metadata": {},
   "outputs": [
    {
     "name": "stdout",
     "output_type": "stream",
     "text": [
      "enter the values of numbers : 1\n",
      "enter the values of numbers : 2\n",
      "enter the values of numbers : 3\n",
      "enter the values of numbers : 4\n",
      "even numbers :  ['2', '4']\n",
      "odd numbers  :  ['1', '3']\n"
     ]
    }
   ],
   "source": [
    "#q9 time(15min)\n",
    "def even_odd():\n",
    "    a = []\n",
    "    b = []\n",
    "    for i in range(4):\n",
    "        num = str(input(\"enter the values of numbers : \"))\n",
    "        if int(num)%2==0:\n",
    "            a.append(num)\n",
    "        else:\n",
    "            b.append(num)\n",
    "    print(\"even numbers : \",a)\n",
    "    print(\"odd numbers  : \",b)\n",
    "even_odd()"
   ]
  },
  {
   "cell_type": "markdown",
   "metadata": {},
   "source": [
    "Question 10:\n",
    "Write a function which will take the string from the user and return how many alphabets have been used in it and which alphabets are missing.\n"
   ]
  },
  {
   "cell_type": "code",
   "execution_count": 15,
   "metadata": {},
   "outputs": [
    {
     "name": "stdout",
     "output_type": "stream",
     "text": [
      "Number of Alphabets Used :  8\n",
      "\n",
      "\n",
      " without using the alphabets letter \n",
      "['c', 'd', 'f', 'g', 'h', 'i', 'j', 'k', 'o', 'p', 'q', 'r', 's', 't', 'v', 'w', 'x', 'y']\n"
     ]
    }
   ],
   "source": [
    "#q10 time(20min)\n",
    "def alphabets(b):\n",
    "    alphabet = 0\n",
    "    a = ['a','b','c','d','e','f','g','h','i','j','k','l','m','n','o','p','q','r','s','t','u','v','w','x','y','z']\n",
    "    b.casefold()\n",
    "    c=['']\n",
    "    for i in b:\n",
    "        if i in a and i not in c:\n",
    "            alphabet = alphabet + 1 \n",
    "            d = c.append(i)\n",
    "            a.remove(i)\n",
    "    print(\"Number of Alphabets Used : \" ,alphabet)\n",
    "    print(\"\\n\\n without using the alphabets letter \")\n",
    "    print(a)\n",
    "    \n",
    "alphabets('muaz nabeel')"
   ]
  },
  {
   "cell_type": "markdown",
   "metadata": {},
   "source": [
    "Question 11:\n",
    "Write a function that will take verbs in words and return a list of verbs with continuous tense by adding (ing) at the end of each verb.\n"
   ]
  },
  {
   "cell_type": "code",
   "execution_count": 1,
   "metadata": {},
   "outputs": [
    {
     "name": "stdout",
     "output_type": "stream",
     "text": [
      "Enter the value of verbs : ball\n",
      "Enter the value of verbs : bat\n",
      "Enter the value of verbs : ride\n",
      "['balling', 'bating', 'rideing']\n"
     ]
    }
   ],
   "source": [
    "#q11 time(19min)\n",
    "def countinuous_tense():\n",
    "    verb= ['','','']\n",
    "    a = ['','','']\n",
    "    for i in range(3):\n",
    "        verb[i] = input(\"Enter the value of verbs : \")\n",
    "    \n",
    "    b = 0\n",
    "    for x in verb:\n",
    "        a[b]=x+\"ing\"\n",
    "        b = b+1\n",
    "    print(a)\n",
    "countinuous_tense()"
   ]
  },
  {
   "cell_type": "markdown",
   "metadata": {},
   "source": [
    "Question 12:\n",
    "Make a function which can take two radius of circles and find the areas of it and subtract smaller one from larger one and tell the remaining area of circle.\n"
   ]
  },
  {
   "cell_type": "code",
   "execution_count": 3,
   "metadata": {},
   "outputs": [
    {
     "name": "stdout",
     "output_type": "stream",
     "text": [
      "Enter radius  of Circle 1 : 12\n",
      "Enter radius of Circle 2: 22\n",
      "Area of Circle = 452.39cm²\n",
      "Area of Circle = 1520.53cm²\n",
      "Area of Square subtract with from Area of Circle , Remaining Area is 1068.14cm²\n"
     ]
    }
   ],
   "source": [
    "#q12 time(23min)\n",
    "from math import pi\n",
    "def Remaining_area_of_circle():\n",
    "    #Two radius of circle\n",
    "    r_1=eval(input(\"Enter radius  of Circle 1 : \"))\n",
    "    r_2=eval(input(\"Enter radius of Circle 2: \"))\n",
    "    #take two Area of circle\n",
    "    \n",
    "    A_1 = pi * r_1**2\n",
    "    print(\"Area of Circle = {0:.{1}f}cm\\u00b2\".format(A_1,2))\n",
    "    A_2 = pi * r_2**2\n",
    "    print(\"Area of Circle = {0:.{1}f}cm\\u00b2\".format(A_2,2))\n",
    "    \n",
    "    if A_1 > A_2 :\n",
    "        Remaining = A_1-A_2\n",
    "        print(\"Area of Circle subtract with from Area of Square , Remaining Area is {0:.{1}f}cm\\u00b2\".format(Remaining,2))\n",
    "    elif A_2 > A_1 :\n",
    "        Remaining = A_2-A_1\n",
    "        print(\"Area of Square subtract with from Area of Circle , Remaining Area is {0:.{1}f}cm\\u00b2\".format(Remaining,2))\n",
    "\n",
    "Remaining_area_of_circle()\n"
   ]
  },
  {
   "cell_type": "markdown",
   "metadata": {},
   "source": [
    "Question 13:\n",
    "Write a function that will take a string and calculate number of Upper case letters and lower case letters.\n"
   ]
  },
  {
   "cell_type": "code",
   "execution_count": 5,
   "metadata": {},
   "outputs": [
    {
     "name": "stdout",
     "output_type": "stream",
     "text": [
      "Enter a String : MuAz NAbeel\n",
      "Number of Uppercase :  4\n",
      "Number of Lowercase :  6\n"
     ]
    }
   ],
   "source": [
    "#q13 time(9min)\n",
    "def calculate_number():\n",
    "    total = 0\n",
    "    count = 0\n",
    "    string = input(\"Enter a String : \")\n",
    "    \n",
    "    for i in string:\n",
    "        if i in 'ABCDEFGHIJKLMNOPQRSTUVWXYZ':\n",
    "            total = total + 1\n",
    "        else:\n",
    "            if i in 'abbcdefghijklmnopqrstuvwxyz':\n",
    "                count = count + 1\n",
    "    print(\"Number of Uppercase : \",total)\n",
    "    print(\"Number of Lowercase : \",count)\n",
    "calculate_number()"
   ]
  },
  {
   "cell_type": "markdown",
   "metadata": {},
   "source": [
    "Question 14:\n",
    "Write a function which will take length and breadth of two rectangles. Subtract the smaller rectangle from the larger rectangle and return the area left behind.\n"
   ]
  },
  {
   "cell_type": "code",
   "execution_count": 8,
   "metadata": {},
   "outputs": [
    {
     "name": "stdout",
     "output_type": "stream",
     "text": [
      "Enter Length of Rectangle 1 : 2\n",
      "Enter Bredth of Rectangle 1 : 22\n",
      "Enter Length of Rectangle 2 : 5\n",
      "Enter Bredth of Rectangle 2 : 25\n",
      "the larger rectangle subtracted from smaller Rectangle : 81.00cm²\n"
     ]
    }
   ],
   "source": [
    "#q14 time (3min)\n",
    "def arealeftbehind():\n",
    "    #take two lenght and breadth of rectangles\n",
    "    \n",
    "    l_1=eval(input(\"Enter Length of Rectangle 1 : \"))\n",
    "    b_1=eval(input(\"Enter Bredth of Rectangle 1 : \"))\n",
    "    l_2=eval(input(\"Enter Length of Rectangle 2 : \"))\n",
    "    b_2=eval(input(\"Enter Bredth of Rectangle 2 : \"))\n",
    "    #two areas\n",
    "    A_1 = l_1*b_1\n",
    "    A_2 = l_2*b_2\n",
    "    if A_1 > A_2:\n",
    "        Remaining = A_1-A_2\n",
    "        print(\"the larger rectangle subtracted from smaller Rectangle : {0:.{1}f}cm\\u00b2\".format(Remaining,2))\n",
    "    if A_2 > A_1:\n",
    "        Remaining = A_2-A_1\n",
    "        print(\"the larger rectangle subtracted from smaller Rectangle : {0:.{1}f}cm\\u00b2\".format(Remaining,2))  \n",
    "arealeftbehind()        "
   ]
  },
  {
   "cell_type": "markdown",
   "metadata": {},
   "source": [
    "Question 15:\n",
    "Create a function that can add the fractions in series such as 1 to 8 = 1/8+1/7+1/6+1/5 …… ½ and return the result in fraction not in decimal.\n"
   ]
  },
  {
   "cell_type": "code",
   "execution_count": 10,
   "metadata": {},
   "outputs": [
    {
     "name": "stdout",
     "output_type": "stream",
     "text": [
      "761/280\n"
     ]
    }
   ],
   "source": [
    "#q15 time(6min)\n",
    "def fraction():\n",
    "    #Take values of sums in fraction is [1/8+1/7+1/6+1/5+1/4+1/3+1/2+1/1]=761/280 # so here it is output by solving\n",
    "    \n",
    "    from fractions import Fraction\n",
    "    sum = 0\n",
    "    for i in range(1,9):\n",
    "        sum = sum + Fraction(1,i) \n",
    "        \n",
    "    print(sum)\n",
    "fraction()"
   ]
  },
  {
   "cell_type": "markdown",
   "metadata": {},
   "source": [
    "Question 16:\n",
    "Write a function which will take height and base for a triangle and \n"
   ]
  },
  {
   "cell_type": "code",
   "execution_count": 2,
   "metadata": {},
   "outputs": [
    {
     "name": "stdout",
     "output_type": "stream",
     "text": [
      "enter the height: 4\n",
      "enter the base: 8\n"
     ]
    },
    {
     "data": {
      "text/plain": [
       "16.0"
      ]
     },
     "execution_count": 2,
     "metadata": {},
     "output_type": "execute_result"
    }
   ],
   "source": [
    "#q16 time(3min)\n",
    "def H_B_T():\n",
    "    height=int(input(\"enter the height: \"))\n",
    "    base=int(input(\"enter the base: \"))\n",
    "    \n",
    "    Area=(1/2*height*base)\n",
    "    return Area\n",
    "H_B_T()"
   ]
  },
  {
   "cell_type": "markdown",
   "metadata": {},
   "source": [
    "Question 17:\n",
    "Write a function which will take a list of fruits names. The function will return how many alphabets are repetitive in the names of fruits and how many are unique letters.\n"
   ]
  },
  {
   "cell_type": "code",
   "execution_count": 1,
   "metadata": {},
   "outputs": [
    {
     "name": "stdout",
     "output_type": "stream",
     "text": [
      "Fruit's Name : apple\n",
      "Fruit's Name : Banana\n",
      "Fruit's Name : orange\n",
      "Unique letters :  3\n",
      "repetitive Letters :  14\n"
     ]
    }
   ],
   "source": [
    "#q17 time(30min)\n",
    "def fruitsname():\n",
    "    count = 0\n",
    "    total = 0\n",
    "    #take fruits and j for put in the value of i \n",
    "    fruits=['','','']\n",
    "    j = ['']\n",
    "    for i in range(3):\n",
    "        fruits[i]=input(\"Fruit's Name : \")\n",
    "    for i in fruits:\n",
    "        for x in i :\n",
    "            if i in j:\n",
    "                count = count + 1 \n",
    "            if i not in j:\n",
    "                #append command use\n",
    "                j.append(i)\n",
    "                total = total + 1 \n",
    "    print(\"Unique letters : \",total)\n",
    "    print(\"repetitive Letters : \",count)\n",
    "    \n",
    "fruitsname()"
   ]
  },
  {
   "cell_type": "markdown",
   "metadata": {},
   "source": [
    "Question 18:\n",
    "Write a function that can take square length and radius of circle. Find the area of both and subtract the smallest shape from largest one and return the remaining shape area.\n"
   ]
  },
  {
   "cell_type": "code",
   "execution_count": 3,
   "metadata": {},
   "outputs": [
    {
     "name": "stdout",
     "output_type": "stream",
     "text": [
      "Enter the value of length of square : 5\n",
      "Enter the value of radius of Circle : 4\n",
      "Area of Square = 10.00cm²\n",
      "Area of Circle = 50.27cm²\n",
      "Subtracting Area of Square from Area of Circle , Remaining Area is 40.27cm²\n"
     ]
    }
   ],
   "source": [
    "#q18 time(10min)\n",
    "from math import pi\n",
    "def Remaining_shape_area():\n",
    "    L=eval(input(\"Enter the value of length of square : \"))\n",
    "    R=eval(input(\"Enter the value of radius of Circle : \"))\n",
    "    #area of Square\n",
    "    #A=2L\n",
    "    A_s = 2 * L\n",
    "    print(\"Area of Square = {0:.{1}f}cm\\u00b2\".format(A_s,2))\n",
    "    #area of circle\n",
    "    #A=pi*R**2\n",
    "    A_c = pi * R**2\n",
    "    print(\"Area of Circle = {0:.{1}f}cm\\u00b2\".format(A_c,2))\n",
    "    #As larger than ac\n",
    "    if A_s > A_c :\n",
    "        Remaining = A_s-A_c\n",
    "        print(\"Subtracting Area of Circle from Area of Square , Remaining Area is {0:.{1}f}cm\\u00b2\".format(Remaining,2))\n",
    "        #As less than ac\n",
    "    elif A_c > A_s :\n",
    "        Remaining = A_c-A_s\n",
    "        print(\"Subtracting Area of Square from Area of Circle , Remaining Area is {0:.{1}f}cm\\u00b2\".format(Remaining,2))\n",
    "Remaining_shape_area()"
   ]
  },
  {
   "cell_type": "code",
   "execution_count": null,
   "metadata": {},
   "outputs": [],
   "source": []
  }
 ],
 "metadata": {
  "kernelspec": {
   "display_name": "Python 3",
   "language": "python",
   "name": "python3"
  },
  "language_info": {
   "codemirror_mode": {
    "name": "ipython",
    "version": 3
   },
   "file_extension": ".py",
   "mimetype": "text/x-python",
   "name": "python",
   "nbconvert_exporter": "python",
   "pygments_lexer": "ipython3",
   "version": "3.7.3"
  }
 },
 "nbformat": 4,
 "nbformat_minor": 2
}
