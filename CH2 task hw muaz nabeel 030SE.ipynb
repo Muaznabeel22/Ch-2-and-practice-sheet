{
 "cells": [
  {
   "cell_type": "code",
   "execution_count": 1,
   "metadata": {},
   "outputs": [
    {
     "name": "stdout",
     "output_type": "stream",
     "text": [
      "15\n",
      "24.333333333333332\n",
      "5\n",
      "38\n",
      "1024\n",
      "3\n",
      "29.95\n"
     ]
    }
   ],
   "source": [
    "#Q2\n",
    "#2.1(a)\n",
    "x=1+2+3+4+5\n",
    "print(x)\n",
    "#b\n",
    "x=(23+19+31)/3\n",
    "print(x)\n",
    "#c\n",
    "x=403//73\n",
    "print(x)\n",
    "#d\n",
    "x=403%73\n",
    "print(x)\n",
    "#E\n",
    "y=(2**10)\n",
    "print(y)\n",
    "#F\n",
    "x=abs (54 - 57 )\n",
    "print(x)\n",
    "#g\n",
    "y= min(34.99, 29.95, 31.50)\n",
    "print(y)\n",
    "\n"
   ]
  },
  {
   "cell_type": "code",
   "execution_count": 2,
   "metadata": {},
   "outputs": [
    {
     "name": "stdout",
     "output_type": "stream",
     "text": [
      "False\n",
      "True\n",
      "True\n",
      "False\n",
      "True\n",
      "False\n",
      "True\n"
     ]
    }
   ],
   "source": [
    "#2.2\n",
    "#(a)\n",
    "x=2 + 2 < 4\n",
    "print(x)\n",
    "#(b)\n",
    "x=7 // 3 == 1 + 1\n",
    "print(x)\n",
    "#(c)\n",
    "x=3**2 + 4**2 == 25\n",
    "print(x)\n",
    "#(d)\n",
    "x=2 + 4 + 6 > 12 \n",
    "print(x)\n",
    "#e\n",
    "x=1387 % 19 == 0\n",
    "print(x)\n",
    "#f\n",
    "x=31 % 2 == 0 \n",
    "print(x)\n",
    "#g\n",
    "x=min(34.99, 29.95, 31.50) < 30.00\n",
    "print(x)"
   ]
  },
  {
   "cell_type": "code",
   "execution_count": 3,
   "metadata": {},
   "outputs": [
    {
     "name": "stdout",
     "output_type": "stream",
     "text": [
      "3\n",
      "4\n",
      "25\n"
     ]
    }
   ],
   "source": [
    "#2.3\n",
    "#a\n",
    "a = 3\n",
    "print(a)\n",
    "#b\n",
    "b = 4\n",
    "print(b)\n",
    "#c\n",
    "c = a * a + b * b\n",
    "print(c)"
   ]
  },
  {
   "cell_type": "code",
   "execution_count": 4,
   "metadata": {},
   "outputs": [
    {
     "name": "stdout",
     "output_type": "stream",
     "text": [
      "antbatcod\n",
      "antantantantantantantantantant\n",
      "antbatbatcodcodcod\n",
      "antbatantbatantbatantbatantbatantbatantbat\n",
      "batbatcodbatbatcodbatbatcod\n"
     ]
    }
   ],
   "source": [
    "#2.4\n",
    "s1 = 'ant'\n",
    "s2 = 'bat'\n",
    "s3 = 'cod'\n",
    "#a\n",
    "x=s1 + ''+ s2 + ''+ s3\n",
    "print(x)\n",
    "#b\n",
    "x=10 * (s1 + '')\n",
    "print(x)\n",
    "#c\n",
    "x=s1 + '' + 2 * (s2 + '') + 2 * (s3 + '') + s3\n",
    "print(x)\n",
    "#d\n",
    "x=7 * (s1 + ''+ s2 + '')\n",
    "print(x)\n",
    "#e\n",
    "x=3 * (2 * s2 + s3 + '')\n",
    "print(x)"
   ]
  },
  {
   "cell_type": "code",
   "execution_count": 1,
   "metadata": {},
   "outputs": [
    {
     "data": {
      "text/plain": [
       "'9'"
      ]
     },
     "execution_count": 1,
     "metadata": {},
     "output_type": "execute_result"
    }
   ],
   "source": [
    "#2.5\n",
    "s = '0123456789'\n",
    "#a\n",
    "s[0]\n",
    "#b\n",
    "s[1]\n",
    "#c\n",
    "s[6]\n",
    "#d\n",
    "s[8]\n",
    "#e\n",
    "s[9]"
   ]
  },
  {
   "cell_type": "code",
   "execution_count": 5,
   "metadata": {},
   "outputs": [
    {
     "name": "stdout",
     "output_type": "stream",
     "text": [
      "badminton\n",
      "racket\n"
     ]
    }
   ],
   "source": [
    "#2.6\n",
    "words = ['bat', 'ball', 'racket', 'basket', 'badminton']\n",
    "a=min(words)\n",
    "print(a)\n",
    "b=max(words)\n",
    "print(b)"
   ]
  },
  {
   "cell_type": "code",
   "execution_count": null,
   "metadata": {},
   "outputs": [],
   "source": [
    "# 2.7\n",
    "grades = [9, 7, 7, 10, 3, 9, 6, 6, 2]\n",
    "#part a\n",
    "a=grades.count(7)\n",
    "print(a)\n",
    "#part b\n",
    "grades[8]=4\n",
    "print(grades)\n",
    "#partc\n",
    "c=max(grades)\n",
    "print(c)\n",
    "#part d\n",
    "d=grades.sort()\n",
    "print(d)\n",
    "#part e\n",
    "e=sum(grades) / len(grades)\n",
    "print(e)"
   ]
  },
  {
   "cell_type": "code",
   "execution_count": 28,
   "metadata": {},
   "outputs": [
    {
     "name": "stdout",
     "output_type": "stream",
     "text": [
      "-28\n",
      "10.651685393258427\n",
      "9.5367431640625e-07\n",
      "265716\n",
      "34\n"
     ]
    }
   ],
   "source": [
    "#2.11\n",
    "#a\n",
    "x=-7-6-5-4-3-2-1\n",
    "print(x)\n",
    "#b\n",
    "import math\n",
    "total_kids=17+24+21+27\n",
    "avg=((17*9)+(24*10)+(21*11)+(27*12))/total_kids\n",
    "print(avg)\n",
    "#c\n",
    "import math\n",
    "x=2**-20\n",
    "print(x)\n",
    "#d\n",
    "x=61*4356\n",
    "print(x)\n",
    "#e\n",
    "x=4365%61\n",
    "print(x)"
   ]
  },
  {
   "cell_type": "code",
   "execution_count": 29,
   "metadata": {},
   "outputs": [
    {
     "name": "stdout",
     "output_type": "stream",
     "text": [
      "-+\n",
      "-+-\n",
      "+--\n",
      "+--+--\n",
      "+--+--+--+--+--+--+--+--+--+--+\n",
      "+-+++--+-+++--+-+++--+-+++--+-+++--\n"
     ]
    }
   ],
   "source": [
    "#2.12\n",
    "\n",
    "s1= '-'\n",
    "s2= '+'\n",
    "x1=s1+s2\n",
    "x2=s1+s2+s1\n",
    "x3=s2+s1+s1\n",
    "x4=s2+s1+s1+s2+s1+s1\n",
    "x5=s2+s1+s1+s2+s1+s1+s2+s1+s1+s2+s1+s1+s2+s1+s1+s2+s1+s1+s2+s1+s1+s2+s1+s1+s2+s1+s1+s2+s1+s1+s2 \n",
    "x6=s2+s1+s2+s2+s2+s1+s1+s2+s1+s2+s2+s2+s1+s1+s2+s1+s2+s2+s2+s1+s1+s2+s1+s2+s2+s2+s1+s1+s2+s1+s2+s2+s2+s1+s1\n",
    "print(x1)\n",
    "print(x2)\n",
    "print(x3)\n",
    "print(x4)\n",
    "print(x5)\n",
    "print(x6)"
   ]
  },
  {
   "cell_type": "code",
   "execution_count": 30,
   "metadata": {},
   "outputs": [
    {
     "name": "stdout",
     "output_type": "stream",
     "text": [
      "abcdefghijklmnopqrstuvwxyz\n"
     ]
    }
   ],
   "source": [
    "#2.13\n",
    "\n",
    "s='abcdefghijklmnopqrstuvwxyz'\n",
    "print(s)"
   ]
  },
  {
   "cell_type": "code",
   "execution_count": 31,
   "metadata": {},
   "outputs": [
    {
     "data": {
      "text/plain": [
       "(True, False, False, False, False, False)"
      ]
     },
     "execution_count": 31,
     "metadata": {},
     "output_type": "execute_result"
    }
   ],
   "source": [
    "#2.14\n",
    "s='goodbye'\n",
    "s[0] == 'g',s[6] == 'g',(s[0] == 'g' and s[1] == 'a'),s[-2] == 'x',s[0] == s[-1],s[-4:] == \"tion\""
   ]
  },
  {
   "cell_type": "code",
   "execution_count": 37,
   "metadata": {},
   "outputs": [
    {
     "name": "stdout",
     "output_type": "stream",
     "text": [
      "5\n",
      "6\n",
      "0.45454545454545453\n",
      "None\n"
     ]
    }
   ],
   "source": [
    "# 2.19\n",
    "\n",
    "answers = ['Y', 'N', 'N', 'Y', 'N', 'Y', 'Y', 'Y', 'N', 'N', 'N']\n",
    "numYes = answers.count('Y')\n",
    "numNo = answers.count('N')\n",
    "percentYes = answers.count('Y')/len(answers)\n",
    "x=answers.sort()\n",
    "print(numYes)\n",
    "print(numNo)\n",
    "print(percentYes)\n",
    "print(x)"
   ]
  },
  {
   "cell_type": "code",
   "execution_count": 40,
   "metadata": {},
   "outputs": [
    {
     "data": {
      "text/plain": [
       "'pot'"
      ]
     },
     "execution_count": 40,
     "metadata": {},
     "output_type": "execute_result"
    }
   ],
   "source": [
    "#2.20\n",
    "s='top'\n",
    "s[::-1]"
   ]
  },
  {
   "cell_type": "code",
   "execution_count": 41,
   "metadata": {},
   "outputs": [
    {
     "data": {
      "text/plain": [
       "'nm'"
      ]
     },
     "execution_count": 41,
     "metadata": {},
     "output_type": "execute_result"
    }
   ],
   "source": [
    "#2.21\n",
    "s='nabeel'\n",
    "t='muaz'\n",
    "s[0]+t[0]\n"
   ]
  },
  {
   "cell_type": "code",
   "execution_count": 5,
   "metadata": {},
   "outputs": [
    {
     "name": "stdout",
     "output_type": "stream",
     "text": [
      "a) ((2 + 3) == 4) or (a >= 5)\n",
      "b) (((lst[1]) * (-3)) < (-10)) == 0\n",
      "c) (((lst[1]) * (-3)) < (-10)) in [0, True]\n",
      "d) 2 * (3**2)\n",
      "e) (4 / 2) in [1, 2, 3]\n"
     ]
    }
   ],
   "source": [
    "#2.8\n",
    "print('a)','((2 + 3) == 4) or (a >= 5)')\n",
    "print('b)','(((lst[1]) * (-3)) < (-10)) == 0' )\n",
    "print('c)','(((lst[1]) * (-3)) < (-10)) in [0, True]')\n",
    "print('d)','2 * (3**2)')\n",
    "print('e)','(4 / 2) in [1, 2, 3]')"
   ]
  },
  {
   "cell_type": "code",
   "execution_count": 6,
   "metadata": {},
   "outputs": [
    {
     "name": "stdout",
     "output_type": "stream",
     "text": [
      "a) 0 ,which is int valued\n",
      "b) 18.0 ,which is float\n",
      "c) 2 ,which is integer\n",
      "d) True ,which is bool valued\n"
     ]
    }
   ],
   "source": [
    "#2.9\n",
    "print('a)',False + False,\",which is int valued\")\n",
    "print('b)',2 * 3**2.0 ,',which is float')\n",
    "print('c)', 4 // 2 + 4 % 2 ,',which is integer')\n",
    "print('d)',2 + 3 == 4 or 5 >= 5,',which is bool valued')"
   ]
  },
  {
   "cell_type": "code",
   "execution_count": 12,
   "metadata": {},
   "outputs": [
    {
     "name": "stdout",
     "output_type": "stream",
     "text": [
      "a) sqrt(a**2 + b**2)\n",
      "b) sqrt(a**2 + b**2) == 5\n",
      "c) pi * a**2\n",
      "d) (x - a)**2 + (y - b)**2 < r**2\n"
     ]
    }
   ],
   "source": [
    "#2.10\n",
    "from math import pi\n",
    "\n",
    "print('a)','sqrt(a**2 + b**2)')\n",
    "print('b)','sqrt(a**2 + b**2) == 5' )\n",
    "print('c)','pi * a**2')\n",
    "print('d)','(x - a)**2 + (y - b)**2 < r**2')"
   ]
  },
  {
   "cell_type": "code",
   "execution_count": 14,
   "metadata": {},
   "outputs": [
    {
     "name": "stdout",
     "output_type": "stream",
     "text": [
      "number of character in anachronistically is : 17\n",
      "number of character in counterintuitive is : 16\n",
      "The number of characters in the word anachronistically is 1 more than the number of characters in the word counterintuitive\n",
      "\n",
      "\n",
      "sorting of dictionary gives words in this order: \n",
      "['misinterpretation', 'misrepresentation']\n",
      "\n",
      "\n",
      "number of time e appear in floccinaucinihilipilification is 0\n",
      "\n",
      "\n",
      "number of character in counterrevolution is :17\n",
      "sum of number of character in counter and resolution is :17\n"
     ]
    }
   ],
   "source": [
    "#2.15\n",
    "#a\n",
    "x = \"anachronistically\"\n",
    "y = \"counterintuitive\"\n",
    "\n",
    "print(\"number of character in anachronistically is : \" +str(len(x)))\n",
    "print(\"number of character in counterintuitive is : \" +str(len(y)))\n",
    "print(\"The number of characters in the word anachronistically is \" +str(len(x)-len(y))+ \" more than the number of characters in the word counterintuitive\" )\n",
    "#b\n",
    "dictionary = ['misrepresentation', 'misinterpretation' ] \n",
    "dictionary.sort()\n",
    "print(\"\\n\\nsorting of dictionary gives words in this order: \") \n",
    "print(dictionary )\n",
    "#c\n",
    "word='floccinaucinihilipilification' \n",
    "print(\"\\n\\nnumber of time e appear in floccinaucinihilipilification is \" +str(word.count(\"e\")))\n",
    "#d\n",
    "word_1='counterrevolution' \n",
    "word_2='counter' \n",
    "word_3='resolution'\n",
    "print(\"\\n\\nnumber of character in counterrevolution is :\" +str(len(word_1)) ) \n",
    "print(\"sum of number of character in counter and resolution is :\" +str(len(word_2)+(len( word_3) )))"
   ]
  },
  {
   "cell_type": "code",
   "execution_count": 15,
   "metadata": {},
   "outputs": [
    {
     "name": "stdout",
     "output_type": "stream",
     "text": [
      "John Fitzgerald Kennedy\n"
     ]
    }
   ],
   "source": [
    "#2.16\n",
    "#a\n",
    "a= 6\n",
    "b= 7\n",
    "#b\n",
    "c= (a+b)/2\n",
    "#c\n",
    "inventory = [\"paper\",\"pencil\",\"staples\"]\n",
    "#d\n",
    "first = \"John\"\n",
    "middle = \"Fitzgerald\"\n",
    "last = \"Kennedy\"\n",
    "#e\n",
    "full_name = (first+\" \"+middle+\" \"+last)\n",
    "print(full_name)\n",
    "\n"
   ]
  },
  {
   "cell_type": "code",
   "execution_count": 16,
   "metadata": {},
   "outputs": [
    {
     "name": "stdout",
     "output_type": "stream",
     "text": [
      "a) True\n",
      "b) False\n",
      "c) True\n",
      "d) True\n",
      "e) False\n",
      "f) False\n"
     ]
    }
   ],
   "source": [
    "#2.17\n",
    "#a\n",
    "print(\"a)\",((17-9)<10))\n",
    "#b\n",
    "print(\"b)\",len(inventory)==5 * len(full_name))\n",
    "#c\n",
    "print(\"c)\",c <= 24)\n",
    "#d\n",
    "print(\"d)\",6.75 > a and 6.75 < b)\n",
    "#e\n",
    "print(\"e)\",len(middle)>len(first) and len(middle)<len(last))\n",
    "#f\n",
    "print(\"f)\",len(inventory)==0 or len(inventory)>10)"
   ]
  },
  {
   "cell_type": "code",
   "execution_count": 18,
   "metadata": {},
   "outputs": [
    {
     "name": "stdout",
     "output_type": "stream",
     "text": [
      "a) ['rose', 'bougainvillea', 'yucca', 'marigold', 'daylilly', 'lilly of the valley']\n",
      "b) False\n",
      "c) ['rose', 'bougainvillea', 'yucca']\n",
      "d) ['rose']\n"
     ]
    }
   ],
   "source": [
    "#2.18\n",
    "#a\n",
    "flowers = ['rose', 'bougainvillea','yucca', 'marigold', 'daylilly','lilly of the valley']\n",
    "#b\n",
    "print('a)',flowers)\n",
    "print('b)','potato' in flowers)\n",
    "#c\n",
    "thorny=flowers[:3]\n",
    "print('c)',thorny)\n",
    "#d\n",
    "poisnous = flowers[:1]\n",
    "print('d)',poisnous)\n",
    "dangerous = thorny + poisnous"
   ]
  },
  {
   "cell_type": "code",
   "execution_count": 19,
   "metadata": {},
   "outputs": [
    {
     "name": "stdout",
     "output_type": "stream",
     "text": [
      "14\n"
     ]
    }
   ],
   "source": [
    "#2.22\n",
    "lst = [3, 7, -2, 12]\n",
    "print(max(lst)-min(lst))"
   ]
  },
  {
   "cell_type": "code",
   "execution_count": 20,
   "metadata": {},
   "outputs": [
    {
     "name": "stdout",
     "output_type": "stream",
     "text": [
      "[4, 4, 2, 2, 1]\n"
     ]
    }
   ],
   "source": [
    "#2.24\n",
    "grades = ['B','B','F','C','B','A','A','D','C','D','A','A','B']\n",
    "count = [grades.count('A'),grades.count('B'),grades.count('C'),grades.count('D'),grades.count('F')]\n",
    "print(count)\n"
   ]
  },
  {
   "cell_type": "code",
   "execution_count": 21,
   "metadata": {},
   "outputs": [
    {
     "name": "stdout",
     "output_type": "stream",
     "text": [
      "[4, 4, 2, 2, 1]\n"
     ]
    }
   ],
   "source": [
    "#2.25 \n",
    "#2.24 same as 2.25\n",
    "grades = ('B','B','F','C','B','A','A','D','C','D','A','A','B')\n",
    "count = [grades.count('A'),grades.count('B'),grades.count('C'),grades.count('D'),grades.count('F')]\n",
    "print(count)"
   ]
  },
  {
   "cell_type": "code",
   "execution_count": 3,
   "metadata": {},
   "outputs": [
    {
     "name": "stdout",
     "output_type": "stream",
     "text": [
      "muaz nabeel\n"
     ]
    }
   ],
   "source": [
    "#2.30\n",
    "name=(\"muaz nabeel\")\n",
    "print(name)"
   ]
  },
  {
   "cell_type": "code",
   "execution_count": null,
   "metadata": {},
   "outputs": [],
   "source": []
  }
 ],
 "metadata": {
  "kernelspec": {
   "display_name": "Python 3",
   "language": "python",
   "name": "python3"
  },
  "language_info": {
   "codemirror_mode": {
    "name": "ipython",
    "version": 3
   },
   "file_extension": ".py",
   "mimetype": "text/x-python",
   "name": "python",
   "nbconvert_exporter": "python",
   "pygments_lexer": "ipython3",
   "version": "3.7.3"
  }
 },
 "nbformat": 4,
 "nbformat_minor": 2
}
