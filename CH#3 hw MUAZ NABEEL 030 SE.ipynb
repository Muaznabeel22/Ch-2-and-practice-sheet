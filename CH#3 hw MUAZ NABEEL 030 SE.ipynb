{
 "cells": [
  {
   "cell_type": "markdown",
   "metadata": {},
   "source": [
    "# Chapter3 Practice H.W\n"
   ]
  },
  {
   "cell_type": "code",
   "execution_count": 3,
   "metadata": {},
   "outputs": [
    {
     "name": "stdout",
     "output_type": "stream",
     "text": [
      "enter the temperature in degree fehreinheit: 50\n",
      "the temperature in degree celsius:  10.0\n"
     ]
    }
   ],
   "source": [
    "#Q3.1\n",
    "fehreinheit=eval(input(\"enter the temperature in degree fehreinheit: \"))\n",
    "#formula\n",
    "celsius= 5/9*(fehreinheit-32)\n",
    "print(\"the temperature in degree celsius: \",celsius)"
   ]
  },
  {
   "cell_type": "code",
   "execution_count": 47,
   "metadata": {},
   "outputs": [
    {
     "name": "stdout",
     "output_type": "stream",
     "text": [
      "Enter age number: 65\n",
      "enter the name of baseball player: Ruth\n",
      "enter the number of hits: 12\n",
      "enter the variable: 0\n",
      "variable in boolean: True\n",
      "You can get your pension benefits\n",
      "One of the top 5 baseball players, ever!\n",
      "you are dead...\n",
      "i can escape\n"
     ]
    }
   ],
   "source": [
    "#Q3.2\n",
    "age=eval(input(\"Enter age number: \"))\n",
    "name=input(\"enter the name of baseball player: \")\n",
    "hits=int(input(\"enter the number of hits: \"))\n",
    "shield=eval(input(\"enter the variable: \"))\n",
    "north_south_east=input(\"variable in boolean: \")\n",
    "\n",
    "          \n",
    "if age > 62:\n",
    "          print('You can get your pension benefits')\n",
    "          \n",
    "if name in ['Musial', 'Aaraon', 'Williams', 'Gehrig', 'Ruth']:\n",
    "          print('One of the top 5 baseball players, ever!')\n",
    "          \n",
    "if hits > 10 and shield==0:\n",
    "          print('you are dead...')\n",
    "          \n",
    "if north_south_east or west:\n",
    "          print('i can escape')\n",
    "          "
   ]
  },
  {
   "cell_type": "code",
   "execution_count": 1,
   "metadata": {},
   "outputs": [
    {
     "name": "stdout",
     "output_type": "stream",
     "text": [
      "enter the number of years: 2019\n",
      "Could be a leap year\n",
      "twenty two5\n",
      "twenty two5\n",
      "you won!\n"
     ]
    }
   ],
   "source": [
    "#Q3.3\n",
    "year=eval(input(\"enter the number of years: \"))\n",
    "if year / 4:\n",
    "    print('Could be a leap year')\n",
    "else:\n",
    "    print('Definitely not a leap year')\n",
    "    \n",
    "ticket=str(input(\"twenty two\"))    \n",
    "lottery=str(input(\"twenty two\"))\n",
    "if ticket==lottery:\n",
    "    print('you won!')\n",
    "else:\n",
    "    print('better luck next time')\n"
   ]
  },
  {
   "cell_type": "code",
   "execution_count": 21,
   "metadata": {},
   "outputs": [
    {
     "name": "stdout",
     "output_type": "stream",
     "text": [
      "To enter a login Id: muaz\n",
      "user unknown\n",
      "Done\n"
     ]
    }
   ],
   "source": [
    "#Q3.4\n",
    "start=str(input(\"To enter a login Id: \"))\n",
    "valid_user=['joe', 'sue','hani', 'sophie']\n",
    "if valid_user in list(valid_user):\n",
    "    print('you are in')\n",
    "    print('Done')\n",
    "else:\n",
    "    print('user unknown')\n",
    "    print('Done')"
   ]
  },
  {
   "cell_type": "code",
   "execution_count": 51,
   "metadata": {},
   "outputs": [
    {
     "name": "stdout",
     "output_type": "stream",
     "text": [
      "stop\n",
      "post\n"
     ]
    }
   ],
   "source": [
    "#Q3.5\n",
    "Lists=  ['stop', 'desktop', 'top', 'post']\n",
    "for word in Lists:\n",
    "    if len(word) == 4:\n",
    "        print(word)"
   ]
  },
  {
   "cell_type": "code",
   "execution_count": 55,
   "metadata": {},
   "outputs": [
    {
     "name": "stdout",
     "output_type": "stream",
     "text": [
      "Integers 0 to 9:  \n",
      "0, 1, 2, 3, 4, 5, 6, 7, 8, 9, \n",
      "\n",
      "Integers 0 to 1:\n",
      "0 1 \n",
      "\n"
     ]
    }
   ],
   "source": [
    "#Q3.6\n",
    "print(\"Integers 0 to 9:  \")\n",
    "for i in range(10):\n",
    "    print(i, end=', ')\n",
    "    \n",
    "print(\"\\n\")   \n",
    "print(\"Integers 0 to 1:\")\n",
    "for i in range(2):\n",
    "    print(i,end=\" \")\n",
    "print(\"\\n\")\n"
   ]
  },
  {
   "cell_type": "code",
   "execution_count": 62,
   "metadata": {},
   "outputs": [
    {
     "name": "stdout",
     "output_type": "stream",
     "text": [
      "Integers 0 to 12#\n",
      "3 4 5 6 7 8 9 10 11 12 \n",
      "\n",
      "0 2 4 6 8 \n",
      "\n",
      "0 3 6 9 12 15 18 21 \n",
      "\n",
      "3 8 \n",
      "\n"
     ]
    }
   ],
   "source": [
    "#Q3.7\n",
    "#a\n",
    "print(\"Integers 0 to 12#\")\n",
    "for i in range(3,13):\n",
    "    print (i,end=\" \")\n",
    "print(\"\\n\")\n",
    "#b\n",
    "for x in range(0,10,2):\n",
    "    print (x,end=\" \")\n",
    "print(\"\\n\")\n",
    "#c\n",
    "for y in range(0,24,3):\n",
    "    print (y,end=\" \")\n",
    "print(\"\\n\")\n",
    "#d\n",
    "for z in range(3,12,5):    \n",
    "    print(z,end=\" \")\n",
    "print(\"\\n\") \n"
   ]
  },
  {
   "cell_type": "code",
   "execution_count": 81,
   "metadata": {},
   "outputs": [
    {
     "name": "stdout",
     "output_type": "stream",
     "text": [
      "enter the value of radius: 5\n"
     ]
    },
    {
     "data": {
      "text/plain": [
       "31.41592653589793"
      ]
     },
     "execution_count": 81,
     "metadata": {},
     "output_type": "execute_result"
    }
   ],
   "source": [
    "#Q3.8\n",
    "from math import pi\n",
    "def perimeter():\n",
    "    radius=eval(input(\"enter the value of radius: \"))\n",
    "    c=2*pi*radius\n",
    "    return c\n",
    "perimeter()"
   ]
  },
  {
   "cell_type": "code",
   "execution_count": 100,
   "metadata": {},
   "outputs": [
    {
     "name": "stdout",
     "output_type": "stream",
     "text": [
      "enter the value of x: 10\n",
      "enter the value of y: 22\n",
      "16.0\n"
     ]
    }
   ],
   "source": [
    "#Q3.9\n",
    "def average(x,y):\n",
    "    x=eval(input(\"enter the value of x: \"))\n",
    "    y=eval(input(\"enter the value of y: \"))\n",
    "    return(x+y)/2\n",
    "avg=average(x,y)\n",
    "print(avg)\n"
   ]
  },
  {
   "cell_type": "code",
   "execution_count": 5,
   "metadata": {},
   "outputs": [
    {
     "name": "stdout",
     "output_type": "stream",
     "text": [
      "enter the string: bat\n",
      "enter the string: ball\n",
      "enter the string: bdp\n"
     ]
    },
    {
     "data": {
      "text/plain": [
       "False"
      ]
     },
     "execution_count": 5,
     "metadata": {},
     "output_type": "execute_result"
    }
   ],
   "source": [
    "#Q3.10\n",
    "def noVowel(s):\n",
    "    c=str(input(\"enter the string: \"))\n",
    "    s=['car','crypt','cwm']\n",
    "    for c in s:\n",
    "        \n",
    "        if c in 'aeiouAEIOU':\n",
    "            \n",
    "            return True\n",
    "        else:\n",
    "            return False\n",
    "        \n",
    "noVowel('car')   \n",
    "noVowel('crypt')\n",
    "noVowel('cwm')\n",
    "    "
   ]
  },
  {
   "cell_type": "code",
   "execution_count": 49,
   "metadata": {},
   "outputs": [
    {
     "data": {
      "text/plain": [
       "True"
      ]
     },
     "execution_count": 49,
     "metadata": {},
     "output_type": "execute_result"
    }
   ],
   "source": [
    "#Q3.11\n",
    "def allEven(even_number):\n",
    "  \n",
    "    for num in even_number:\n",
    "        if num % 2 == 0:\n",
    "            \n",
    "            x=([8, 0 , -2, 4, -6, 10])   \n",
    "            return True\n",
    "        \n",
    "        else:\n",
    "            y=([8, 0, -1, 4, -6, 10])\n",
    "            False\n",
    "        \n",
    "allEven([8, 0 , -2, 4, -6, 10])      \n",
    "allEven([8, 0, -1, 4, -6, 10])    "
   ]
  },
  {
   "cell_type": "code",
   "execution_count": 12,
   "metadata": {},
   "outputs": [
    {
     "name": "stdout",
     "output_type": "stream",
     "text": [
      "-1 -3 -9 "
     ]
    }
   ],
   "source": [
    "#Q3.12\n",
    "def negatives():\n",
    "    lists=[4, 0, -1, -3, 6, -9]\n",
    "    for num in lists:\n",
    "        \n",
    "        if num < 0:\n",
    "            print(num, end = \" \") \n",
    "negatives()   "
   ]
  },
  {
   "cell_type": "code",
   "execution_count": 42,
   "metadata": {},
   "outputs": [
    {
     "name": "stdout",
     "output_type": "stream",
     "text": [
      "-1 -3 -9 "
     ]
    }
   ],
   "source": [
    "#Q3.13\n",
    "\n",
    "help(negatives)"
   ]
  },
  {
   "cell_type": "code",
   "execution_count": 64,
   "metadata": {},
   "outputs": [
    {
     "name": "stdout",
     "output_type": "stream",
     "text": [
      "3\n",
      "[5, 6, 7]\n"
     ]
    }
   ],
   "source": [
    "#Q3.14\n",
    "x=[5,6,7]\n",
    "y=x\n",
    "x=3\n",
    "print(x)\n",
    "print(y)"
   ]
  },
  {
   "cell_type": "code",
   "execution_count": 66,
   "metadata": {},
   "outputs": [
    {
     "name": "stdout",
     "output_type": "stream",
     "text": [
      "['Sarah', 'Eleanor', 'Clare', 'Ava']\n"
     ]
    }
   ],
   "source": [
    "#Q3.15\n",
    "team_1=['Ava', 'Eleanor', 'Clare', 'Sarah']\n",
    "team_2= team_1[0]\n",
    "team_1[0] = team_1[-1]\n",
    "team_1[-1] = team_2\n",
    "print(team_1)"
   ]
  },
  {
   "cell_type": "code",
   "execution_count": 70,
   "metadata": {},
   "outputs": [
    {
     "name": "stdout",
     "output_type": "stream",
     "text": [
      "['apples', 'sugar', 'butter', 'flour']\n"
     ]
    }
   ],
   "source": [
    "#Q3.16\n",
    "def swapFL():\n",
    "    ingredients = ['flour', 'sugar', 'butter', 'apples']\n",
    "    list_1 = ingredients[0]\n",
    "    ingredients[0] = ingredients[-1]\n",
    "    ingredients[-1] = list_1\n",
    "    print(ingredients)\n",
    "swapFL() "
   ]
  },
  {
   "cell_type": "code",
   "execution_count": 21,
   "metadata": {},
   "outputs": [
    {
     "data": {
      "text/plain": [
       "()"
      ]
     },
     "execution_count": 21,
     "metadata": {},
     "output_type": "execute_result"
    }
   ],
   "source": [
    "#Q3.17 (#did not match in any document)\n",
    "def eval():\n",
    "    a='2*3+1'\n",
    "    b='hello'\n",
    "    c=\"'hello' + ' ' + 'world!'\"\n",
    "    d=\"'ASCII'.count('I')\"\n",
    "    e='x=5'\n",
    "    return()\n",
    "eval()"
   ]
  },
  {
   "cell_type": "code",
   "execution_count": 71,
   "metadata": {},
   "outputs": [
    {
     "name": "stdout",
     "output_type": "stream",
     "text": [
      "OK\n",
      "OK\n"
     ]
    }
   ],
   "source": [
    "#Q3.18\n",
    "\n",
    "a, b, c=3,4,5\n",
    "#a\n",
    "if a<b:\n",
    "    print(\"OK\")\n",
    "#b\n",
    "if c<b:\n",
    "    print(\"OK\")\n",
    "#c    \n",
    "if a+b==c:\n",
    "    print(\"OK\")\n",
    "#d    \n",
    "if a**2+b**2==c**2:\n",
    "    print(\"OK\")"
   ]
  },
  {
   "cell_type": "code",
   "execution_count": 72,
   "metadata": {},
   "outputs": [
    {
     "name": "stdout",
     "output_type": "stream",
     "text": [
      "OK\n",
      "NOT OK\n",
      "NOT OK\n",
      "OK\n"
     ]
    }
   ],
   "source": [
    "#Q3.19*(same as 3.18)\n",
    "a, b, c=3,4,5\n",
    "if a<b:\n",
    "    print(\"OK\")\n",
    "else:\n",
    "    print(\"NOT OK\")\n",
    "if c<b:\n",
    "    print(\"OK\")\n",
    "else:\n",
    "    print(\"NOT OK\")\n",
    "if a+b==c:\n",
    "    print(\"OK\")\n",
    "else:\n",
    "    print(\"NOT OK\")\n",
    "if a**2+b**2==c**2:\n",
    "    print(\"OK\")\n",
    "else:\n",
    "    print(\"NOT OK\")"
   ]
  },
  {
   "cell_type": "code",
   "execution_count": 76,
   "metadata": {},
   "outputs": [
    {
     "name": "stdout",
     "output_type": "stream",
     "text": [
      "Jan\n",
      "Feb\n",
      "Mar\n"
     ]
    }
   ],
   "source": [
    "#Q3.20\n",
    "\n",
    "list_lst=[\"January\",\"February\",\"March\"]\n",
    "for word in list_lst:\n",
    "    print(word[:3])"
   ]
  },
  {
   "cell_type": "code",
   "execution_count": 78,
   "metadata": {},
   "outputs": [
    {
     "name": "stdout",
     "output_type": "stream",
     "text": [
      "2\n",
      "4\n",
      "6\n",
      "8\n"
     ]
    }
   ],
   "source": [
    "#Q3.21\n",
    "\n",
    "list_lst=[2,3,4,5,6,7,8,9]\n",
    "for i in list_lst:\n",
    "    if i%2==0:\n",
    "        print(i)\n",
    "    "
   ]
  },
  {
   "cell_type": "code",
   "execution_count": 79,
   "metadata": {},
   "outputs": [
    {
     "name": "stdout",
     "output_type": "stream",
     "text": [
      "4\n",
      "8\n"
     ]
    }
   ],
   "source": [
    "#Q3.22\n",
    "\n",
    "list_lst=[1,2,3,4,5,6,7,8,9]\n",
    "for i in list_lst:\n",
    "    if(i**2)%8==0:\n",
    "        print(i)"
   ]
  },
  {
   "cell_type": "code",
   "execution_count": 126,
   "metadata": {},
   "outputs": [
    {
     "name": "stdout",
     "output_type": "stream",
     "text": [
      "0 1 0\n",
      "3 4 5 6 1 0\n",
      "3\n",
      "5 9 13 17 21 "
     ]
    }
   ],
   "source": [
    "#Q3.23\n",
    "i=[0,1,2,3,4,5,6,7,8,9,10,11,12,13,14,15,16,17,18,19,20,21,22]\n",
    "#a\n",
    "for i in range(2):\n",
    "    print(i,end=\" \")\n",
    "#b        \n",
    "for i in range(1):\n",
    "    print(i)\n",
    "#c    \n",
    "for i in range(3,7):\n",
    "    print(i,end=\" \")\n",
    "#d    \n",
    "for i in range(1,2):\n",
    "    print(i,end=\" \")\n",
    "#e    \n",
    "for i in range(0,4,3):\n",
    "    print(i)\n",
    "#f    \n",
    "for i in range(5,22,4):\n",
    "    print(i,end=\" \")\n"
   ]
  },
  {
   "cell_type": "code",
   "execution_count": 131,
   "metadata": {},
   "outputs": [
    {
     "name": "stdout",
     "output_type": "stream",
     "text": [
      "# Enter list of words: \n",
      "cia\n",
      "mi6\n",
      "isi\n"
     ]
    }
   ],
   "source": [
    "#Q3.24\n",
    "print(\"# Enter list of words: \")\n",
    "list_lst=[\"cia\",\"secret\",\"mi6\",\"isi\",\"secret\"]\n",
    "for word in list_lst:\n",
    "    if word!=\"secret\":\n",
    "        print(word)"
   ]
  },
  {
   "cell_type": "code",
   "execution_count": 140,
   "metadata": {},
   "outputs": [
    {
     "name": "stdout",
     "output_type": "stream",
     "text": [
      "Ellie\n",
      "Steve\n",
      "Sam\n",
      "Owen\n",
      "Gavin\n"
     ]
    }
   ],
   "source": [
    "#Q3.25\n",
    "#3.25\n",
    "list_1=[\"Ellie\",\"Steve\",\"Sam\",\"Owen\",\"Gavin\"]\n",
    "for words in list_1:\n",
    "    if words [1]>=\"A\"and words [1]>=\"M\":\n",
    "        print(words)"
   ]
  },
  {
   "cell_type": "code",
   "execution_count": 142,
   "metadata": {},
   "outputs": [
    {
     "name": "stdout",
     "output_type": "stream",
     "text": [
      "The first list element is 3\n",
      "The last list element is 9\n"
     ]
    }
   ],
   "source": [
    "#Q3.26\n",
    "\n",
    "list=[3,5,7,9]\n",
    "print(\"The first list element is\",list[0])\n",
    "print(\"The last list element is\",list[-1])"
   ]
  },
  {
   "cell_type": "code",
   "execution_count": 147,
   "metadata": {},
   "outputs": [
    {
     "name": "stdout",
     "output_type": "stream",
     "text": [
      "#Enter n: 5\n",
      "0\n",
      "5\n",
      "10\n",
      "15\n"
     ]
    }
   ],
   "source": [
    "#Q3.27\n",
    "n=int(input(\"#Enter n: \" ))\n",
    "for i in range(4):\n",
    "    print(n*i)\n"
   ]
  },
  {
   "cell_type": "code",
   "execution_count": 150,
   "metadata": {},
   "outputs": [
    {
     "name": "stdout",
     "output_type": "stream",
     "text": [
      "#Enter n: 3\n",
      "0\n",
      "1\n",
      "4\n"
     ]
    }
   ],
   "source": [
    "#Q3.28\n",
    "\n",
    "n=int(input(\"#Enter n: \" ))\n",
    "for i in range(n):\n",
    "    print(i*i)"
   ]
  },
  {
   "cell_type": "code",
   "execution_count": 3,
   "metadata": {},
   "outputs": [
    {
     "name": "stdout",
     "output_type": "stream",
     "text": [
      "#Enter n: 49\n",
      "1\n",
      "7\n",
      "49\n"
     ]
    }
   ],
   "source": [
    "#Q3.29\n",
    "n=int(input(\"#Enter n: \" ))\n",
    "for i in range(1,n+1):\n",
    "    if(n%i==0):\n",
    "        print(i)"
   ]
  },
  {
   "cell_type": "code",
   "execution_count": 7,
   "metadata": {},
   "outputs": [
    {
     "name": "stdout",
     "output_type": "stream",
     "text": [
      "Enter first number: 4.5\n",
      "Enter second number: 3\n",
      "Enter third number: 3\n",
      "Enter last number: 3.5\n",
      "#equal\n"
     ]
    }
   ],
   "source": [
    "#Q3.30\n",
    "n1=float(input(\"Enter first number: \"))\n",
    "n2=int(input(\"Enter second number: \"))\n",
    "n3=int(input(\"Enter third number: \"))\n",
    "n4=float(input(\"Enter last number: \"))\n",
    "if (n1+n2+n3)/3 == n4:\n",
    "    print(\"#equal\")\n",
    "    "
   ]
  },
  {
   "cell_type": "code",
   "execution_count": 1,
   "metadata": {},
   "outputs": [
    {
     "name": "stdout",
     "output_type": "stream",
     "text": [
      "Enter x: 2.5\n",
      "Enter y: 4\n",
      "It is in!\n"
     ]
    }
   ],
   "source": [
    "#Q3.31(using dart method)\n",
    "x=float(input(\"Enter x: \"))\n",
    "y=int(input(\"Enter y: \"))\n",
    "if x**2+y**2 < 8**2:\n",
    "    print(\"It is in!\")"
   ]
  },
  {
   "cell_type": "code",
   "execution_count": 2,
   "metadata": {},
   "outputs": [
    {
     "name": "stdout",
     "output_type": "stream",
     "text": [
      "Enter n : 1234\n",
      "1\n",
      "2\n",
      "3\n",
      "4\n"
     ]
    }
   ],
   "source": [
    "#Q3.32\n",
    "x=input(\"Enter n : \")\n",
    "x.split()\n",
    "for i in x:\n",
    "    print(i)"
   ]
  },
  {
   "cell_type": "code",
   "execution_count": 7,
   "metadata": {},
   "outputs": [
    {
     "name": "stdout",
     "output_type": "stream",
     "text": [
      "cba\n",
      "cat\n"
     ]
    }
   ],
   "source": [
    "#Q3.33(reverse command used)\n",
    "def reverse_string(s):\n",
    "    print (s[::-1])\n",
    "reverse_string('abc')\n",
    "reverse_string('tac')"
   ]
  },
  {
   "cell_type": "code",
   "execution_count": 10,
   "metadata": {},
   "outputs": [
    {
     "name": "stdout",
     "output_type": "stream",
     "text": [
      "350\n",
      "475.0\n"
     ]
    }
   ],
   "source": [
    "#Q3.34\n",
    "def pay(hourly_wage,no_hour):\n",
    "    payment=0\n",
    "    if(no_hour>40):\n",
    "        payment=payment +(no_hour-40)*hourly_wage*1.5\n",
    "        payment=payment+(40)*hourly_wage\n",
    "    else:\n",
    "        payment=payment+no_hour*hourly_wage\n",
    "    print(payment)\n",
    "pay(10,35)\n",
    "pay(10,45)"
   ]
  },
  {
   "cell_type": "code",
   "execution_count": 33,
   "metadata": {},
   "outputs": [
    {
     "name": "stdout",
     "output_type": "stream",
     "text": [
      "Enter n: 2\n"
     ]
    },
    {
     "data": {
      "text/plain": [
       "0.25"
      ]
     },
     "execution_count": 33,
     "metadata": {},
     "output_type": "execute_result"
    }
   ],
   "source": [
    "#Q3.35 using probability \n",
    "def prob(n):\n",
    "    n=float(input(\"Enter n: \"))\n",
    "    x=(2**(-n))\n",
    "    return x\n",
    "prob(6)"
   ]
  },
  {
   "cell_type": "code",
   "execution_count": 32,
   "metadata": {},
   "outputs": [
    {
     "name": "stdout",
     "output_type": "stream",
     "text": [
      "321\n"
     ]
    }
   ],
   "source": [
    "#Q3.36\n",
    "def reverse_int(n):\n",
    "    x=0\n",
    "    while(n!=0):\n",
    "        x*=10\n",
    "        x+=n%10\n",
    "        n=n//10\n",
    "    print(x)\n",
    "reverse_int(123)"
   ]
  },
  {
   "cell_type": "code",
   "execution_count": 2,
   "metadata": {},
   "outputs": [
    {
     "name": "stdout",
     "output_type": "stream",
     "text": [
      "points1 : 0\n",
      "points2 : 0\n",
      "points3 : 0\n",
      "points4 : 1\n",
      "The slope is infinity and the distance is 1.0\n"
     ]
    }
   ],
   "source": [
    "#Q3.37\n",
    "import math\n",
    "def points():\n",
    "    x1=int(input(\"points1 : \"))\n",
    "    x2=int(input(\"points2 : \"))\n",
    "    y1=int(input(\"points3 : \"))\n",
    "    y2=int(input(\"points4 : \"))\n",
    "    from math import sqrt\n",
    "    distance = str(math.sqrt((x1-x2)**2+(y1-y2)**2))\n",
    "    if(x1==x2):\n",
    "        slope = \"infinity\"\n",
    "    else:\n",
    "        slope = str((y2-y1)/(x2-x1))\n",
    "    print(\"The slope is \"+ slope +\" and the distance is \"+ distance)\n",
    "points()\n"
   ]
  },
  {
   "cell_type": "code",
   "execution_count": 5,
   "metadata": {},
   "outputs": [
    {
     "name": "stdout",
     "output_type": "stream",
     "text": [
      "Enter a day : Tuesday\n",
      "Tu\n"
     ]
    }
   ],
   "source": [
    "#Q3.38 (if and elif use)\n",
    "def abbreviation():\n",
    "    day=input(\"Enter a day : \")\n",
    "    \n",
    "    if(day==\"Monday\"):\n",
    "        print(\"Mon\")\n",
    "        \n",
    "    elif(day==\"Tuesday\"):\n",
    "        print(\"Tu\")\n",
    "        \n",
    "    elif(day==\"Wednesday\"):\n",
    "        print(\"Wed\")\n",
    "        \n",
    "    elif(day==\"Thursday\"):\n",
    "        print(\"Th\")\n",
    "        \n",
    "    elif(day==\"Friday\"):\n",
    "        print(\"Fri\")\n",
    "        \n",
    "    elif(day==\"Saturday\"):\n",
    "        print(\"Sa\")\n",
    "        \n",
    "    elif(day==\"Sunday\"):\n",
    "        print(\"Su\")\n",
    "abbreviation()"
   ]
  },
  {
   "cell_type": "code",
   "execution_count": 7,
   "metadata": {},
   "outputs": [
    {
     "name": "stdout",
     "output_type": "stream",
     "text": [
      "Enter the value of number : 0\n",
      "Enter the value of number : 0\n",
      "Enter the value of number : 3\n",
      "Enter the value of number : 0\n",
      "Enter the radius of the first circle : 5\n",
      "Enter the radius of the second circle : 3\n",
      "True\n"
     ]
    }
   ],
   "source": [
    "#Q3.39(collisions points(0,0,3,0,5,3))for true\n",
    "def collision():\n",
    "    x1=eval(input(\"Enter the value of number : \"))\n",
    "    x2=eval(input(\"Enter the value of number : \"))\n",
    "    y1=eval(input(\"Enter the value of number : \"))\n",
    "    y2=eval(input(\"Enter the value of number : \"))\n",
    "    R1=eval(input(\"Enter the radius of the first circle : \"))\n",
    "    R2=eval(input(\"Enter the radius of the second circle : \"))\n",
    "    if(math.sqrt((x1-x2)**2+(y1-y2)**2) > R1+R2):\n",
    "        print(\"False\")\n",
    "    else:\n",
    "        print(\"True\")\n",
    "collision()"
   ]
  },
  {
   "cell_type": "code",
   "execution_count": 8,
   "metadata": {},
   "outputs": [
    {
     "name": "stdout",
     "output_type": "stream",
     "text": [
      "Eleanor\n",
      "Evelyn\n",
      "Gavin\n"
     ]
    }
   ],
   "source": [
    "#Q3.40\n",
    "def partition():\n",
    "    list=['Eleanor', 'Evelyn', 'sammy', 'owen', 'Gavin']\n",
    "    for name in list:\n",
    "        if name[0] >= \"A\" and name[0] <= \"M\":\n",
    "            print(name)\n",
    "partition()"
   ]
  },
  {
   "cell_type": "code",
   "execution_count": 9,
   "metadata": {},
   "outputs": [
    {
     "name": "stdout",
     "output_type": "stream",
     "text": [
      "Input your first name : muaz\n",
      "Input your last name : nabeel\n",
      "nabeel, m.\n"
     ]
    }
   ],
   "source": [
    "#Q3.41\n",
    "def lastF():\n",
    "    firstname = input(\"Input your first name : \")\n",
    "    lastname = input(\"Input your last name : \")\n",
    "    print(lastname+\", \"+firstname[0]+\".\")\n",
    "lastF()"
   ]
  },
  {
   "cell_type": "code",
   "execution_count": 22,
   "metadata": {},
   "outputs": [
    {
     "name": "stdout",
     "output_type": "stream",
     "text": [
      "90.0\n"
     ]
    },
    {
     "data": {
      "text/plain": [
       "[95, 92, 86, 87]"
      ]
     },
     "execution_count": 22,
     "metadata": {},
     "output_type": "execute_result"
    }
   ],
   "source": [
    "#Q3.42\n",
    "def avg(list):\n",
    "    list=[[95, 92, 86, 87], [66, 54], [89, 72, 100], [33, 0, 0]]\n",
    "    for list in list:\n",
    "        print(sum(list)/len(list)) \n",
    "        return(list)\n",
    "avg(list)"
   ]
  },
  {
   "cell_type": "code",
   "execution_count": 13,
   "metadata": {},
   "outputs": [
    {
     "name": "stdout",
     "output_type": "stream",
     "text": [
      "Enter a number : 0\n",
      "Enter a number : 0\n",
      "Enter a number : 3\n",
      "Enter a number : 3\n",
      "Enter the radius of the circle : 0\n",
      "TRUE\n"
     ]
    }
   ],
   "source": [
    "#Q3.43(values(hit(0, 0, 3, 3, 0)))\n",
    "import math\n",
    "def hit():\n",
    "    x1=int(input(\"Enter a number : \"))\n",
    "    x2=int(input(\"Enter a number : \"))\n",
    "    y1=int(input(\"Enter a number : \"))\n",
    "    y2=int(input(\"Enter a number : \"))\n",
    "    r=int(input(\"Enter the radius of the circle : \"))\n",
    "    if (math.sqrt((x1-x2)**2+(y1-y2)**2) > r):\n",
    "        print(\"FALSE\")\n",
    "    else:\n",
    "        print(\"TRUE\")\n",
    "hit()"
   ]
  },
  {
   "cell_type": "code",
   "execution_count": 4,
   "metadata": {},
   "outputs": [
    {
     "name": "stdout",
     "output_type": "stream",
     "text": [
      "distance: 3\n",
      "1.0208700000000002\n"
     ]
    }
   ],
   "source": [
    "#Q3.44\n",
    "def distance(n):\n",
    "    n=int(input(\"distance: \"))\n",
    "    print(n*340.29/1000)\n",
    "distance(3)"
   ]
  },
  {
   "cell_type": "code",
   "execution_count": null,
   "metadata": {},
   "outputs": [],
   "source": []
  }
 ],
 "metadata": {
  "kernelspec": {
   "display_name": "Python 3",
   "language": "python",
   "name": "python3"
  },
  "language_info": {
   "codemirror_mode": {
    "name": "ipython",
    "version": 3
   },
   "file_extension": ".py",
   "mimetype": "text/x-python",
   "name": "python",
   "nbconvert_exporter": "python",
   "pygments_lexer": "ipython3",
   "version": "3.7.3"
  }
 },
 "nbformat": 4,
 "nbformat_minor": 2
}
