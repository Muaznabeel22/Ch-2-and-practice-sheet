{
 "cells": [
  {
   "cell_type": "markdown",
   "metadata": {},
   "source": [
    "# ch4 practice\n"
   ]
  },
  {
   "cell_type": "code",
   "execution_count": 1,
   "metadata": {},
   "outputs": [
    {
     "name": "stdout",
     "output_type": "stream",
     "text": [
      "234\n",
      "78\n",
      "1234567\n",
      "0123\n",
      "789\n"
     ]
    }
   ],
   "source": [
    "#Q4.1\n",
    "s= '0123456789'\n",
    "a=s[2:5]\n",
    "print(a)\n",
    "b=s[7:9]\n",
    "print(b)\n",
    "c=s[1:8]\n",
    "print(c)\n",
    "d=s[:4]\n",
    "print(d)\n",
    "e=s[7:]\n",
    "print(e)\n"
   ]
  },
  {
   "cell_type": "code",
   "execution_count": 2,
   "metadata": {},
   "outputs": [
    {
     "name": "stdout",
     "output_type": "stream",
     "text": [
      "day has been seen 2 times\n",
      "13\n",
      "It will be a cloudy day today\n"
     ]
    }
   ],
   "source": [
    "#Q4.2\n",
    "\n",
    "def function1(x):\n",
    "    global forecast\n",
    "    forecast = x   \n",
    "    print(\"day has been seen\", forecast.count(\"day\"),\"times\")\n",
    "\n",
    "def function2():\n",
    "    weather = forecast.index(\"sunny\")\n",
    "    print(weather)\n",
    "\n",
    "def function3():\n",
    "    change=forecast.replace(\"sunny\",\"cloudy\")\n",
    "    print(change)\n",
    "\n",
    "function1(\"It will be a sunny day today\")\n",
    "function2()\n",
    "function3()"
   ]
  },
  {
   "cell_type": "code",
   "execution_count": 3,
   "metadata": {},
   "outputs": [
    {
     "name": "stdout",
     "output_type": "stream",
     "text": [
      "Smith \t John \t Paul \t\n"
     ]
    }
   ],
   "source": [
    "#Q4.3\n",
    "last = 'Smith'\n",
    "first = 'John'\n",
    "middle = 'Paul'\n",
    "\n",
    "\n",
    "print(last,\"\\t\",first,\"\\t\",middle,\"\\t\")"
   ]
  },
  {
   "cell_type": "code",
   "execution_count": 4,
   "metadata": {},
   "outputs": [
    {
     "name": "stdout",
     "output_type": "stream",
     "text": [
      "2, 3, 4, 6, 8, 9, 10, 12, 14, 15, 16, "
     ]
    }
   ],
   "source": [
    "#Q4.4\n",
    "def even(n):\n",
    "    for i in range(2, n+1):\n",
    "        if i%2 == 0 or i%3 == 0:\n",
    "            print(i, end=', ')\n",
    "even(17)            "
   ]
  },
  {
   "cell_type": "code",
   "execution_count": 5,
   "metadata": {},
   "outputs": [
    {
     "name": "stdout",
     "output_type": "stream",
     "text": [
      "Wednesday,March 10,2010\n",
      "11:45:33\n"
     ]
    }
   ],
   "source": [
    "#example just practice\n",
    "weekday = 'Wednesday'\n",
    "month = 'March'\n",
    "day = 10\n",
    "year = 2010\n",
    "hour = 11\n",
    "minute = 45\n",
    "second = 33\n",
    "print('{},{} {},{}'.format(weekday, month,day,year))\n",
    "print('{0}:{1}:{2}'.format(hour, minute, second))"
   ]
  },
  {
   "cell_type": "code",
   "execution_count": 6,
   "metadata": {},
   "outputs": [
    {
     "name": "stdout",
     "output_type": "stream",
     "text": [
      "Muaznabeel\n",
      "Main Street 22\n",
      "karachi AS 09876\n"
     ]
    }
   ],
   "source": [
    "#Q4.5\n",
    "first = 'Muaz'\n",
    "last = 'nabeel'\n",
    "street = 'Main Street'\n",
    "number = (22)\n",
    "city = 'karachi'\n",
    "state = 'AS'\n",
    "zipcode = '09876'\n",
    "print(first + last + \"\\n\"+street +\"\", number)\n",
    "print(city,\"\"+state,\"\"+zipcode)"
   ]
  },
  {
   "cell_type": "code",
   "execution_count": 7,
   "metadata": {},
   "outputs": [
    {
     "name": "stdout",
     "output_type": "stream",
     "text": [
      "i i**2 i**3 2**i\n",
      "1  1   1   2 \n",
      "2  4   8   2 \n",
      "3  9   27   2 \n",
      "4  16   64   2 \n",
      "5  25   125   2 \n",
      "6  36   216   2 \n",
      "7  49   343   2 \n",
      "8  64   512   2 \n",
      "9  81   729   2 \n",
      "10  100   1000   2 \n",
      "11  121   1331   2 \n",
      "12  144   1728   2 \n"
     ]
    }
   ],
   "source": [
    "#self practice\n",
    "print('i i**2 i**3 2**i')\n",
    "for i in range(1,13):\n",
    "    print(i, \"\",i**2,\" \" , i**3 ,\"\", \"\",2**1,\"\" ,sep=' ')"
   ]
  },
  {
   "cell_type": "code",
   "execution_count": 8,
   "metadata": {},
   "outputs": [
    {
     "name": "stdout",
     "output_type": "stream",
     "text": [
      "prints average grade for a roster of students\n",
      "Last First Class Average Grade\n",
      "DeMoines  Jim       Sophomore     3.45\n",
      "Pierre    Sophie    Sophomore     4.00\n",
      "Columbus  Maria     Senior        2.50\n",
      "Phoenix   River     Junior        2.45\n",
      "Olympis   Edgar     Junior        3.99\n"
     ]
    }
   ],
   "source": [
    "#Q4.6\n",
    "def roster(students):\n",
    "    print('prints average grade for a roster of students')\n",
    "    print('Last First Class Average Grade')\n",
    "    for student in students:\n",
    "        print('{:10}{:10}{:10}{:8.2f}'.format(student[0],student[1], student[2], student[3]))\n",
    "students = []\n",
    "students.append(['DeMoines', 'Jim', 'Sophomore', 3.45])\n",
    "students.append(['Pierre', 'Sophie', 'Sophomore', 4.0])\n",
    "students.append(['Columbus', 'Maria', 'Senior', 2.5])\n",
    "students.append(['Phoenix', 'River', 'Junior', 2.45])\n",
    "students.append(['Olympis', 'Edgar', 'Junior', 3.99])\n",
    "roster(students)\n"
   ]
  },
  {
   "cell_type": "code",
   "execution_count": 9,
   "metadata": {},
   "outputs": [
    {
     "name": "stdout",
     "output_type": "stream",
     "text": [
      "Monday  Nov  25 , 2019 \n",
      "11:15 PM pakistan standard time on 23:15:27\n",
      "I will meet you on Monday November 25 at 11 : 15  PM\n"
     ]
    }
   ],
   "source": [
    "#Q4.7\n",
    "\n",
    "from datetime import datetime\n",
    "timestamp=1574752527\n",
    "date_time=datetime.fromtimestamp(timestamp)\n",
    "d=date_time.strftime(\"%A  %b  %d , %Y \")\n",
    "print(d)\n",
    "\n",
    "t=date_time.strftime(\"%I:%M %p \" )\n",
    "pst= 'pakistan standard time on '\n",
    "d=date_time.strftime(\"%X\")\n",
    "print(t + pst + d)\n",
    "\n",
    "c=date_time.strftime('I will meet you on %A %B %d at %I : %M  %p')\n",
    "print(c)\n",
    "\n"
   ]
  },
  {
   "cell_type": "code",
   "execution_count": 15,
   "metadata": {},
   "outputs": [
    {
     "name": "stdout",
     "output_type": "stream",
     "text": [
      "['Ch#4 practice \\n', 'muaz 22\\n', 'keep it up \\n', 'work hard and never give up']\n"
     ]
    },
    {
     "data": {
      "text/plain": [
       "4"
      ]
     },
     "execution_count": 15,
     "metadata": {},
     "output_type": "execute_result"
    }
   ],
   "source": [
    "def numLines(filename):\n",
    "    infile = open(filename, 'r')\n",
    "    lineList=infile.readlines()\n",
    "    infile.close()\n",
    "\n",
    "    print(lineList)\n",
    "    return len(lineList)\n",
    "numLines('muaz22.txt')"
   ]
  },
  {
   "cell_type": "code",
   "execution_count": 17,
   "metadata": {},
   "outputs": [
    {
     "name": "stdout",
     "output_type": "stream",
     "text": [
      "returns the list of words in file filename\n"
     ]
    },
    {
     "data": {
      "text/plain": [
       "['ch#4',\n",
       " 'practice',\n",
       " 'muaz',\n",
       " '22',\n",
       " 'keep',\n",
       " 'it',\n",
       " 'up',\n",
       " 'work',\n",
       " 'hard',\n",
       " 'and',\n",
       " 'never',\n",
       " 'give',\n",
       " 'up']"
      ]
     },
     "execution_count": 17,
     "metadata": {},
     "output_type": "execute_result"
    }
   ],
   "source": [
    "#4.9\n",
    "def words(filename):\n",
    "    print('returns the list of words in file filename')\n",
    "    infile = open(filename, 'r')\n",
    "    content = infile.read()\n",
    "    infile.close()\n",
    "    table = str.maketrans('!,.:;?', 6*' ')\n",
    "    content=content.translate(table)\n",
    "    content=content.lower()\n",
    "    return content.split()\n",
    "words('muaz22.txt')"
   ]
  },
  {
   "cell_type": "code",
   "execution_count": 6,
   "metadata": {},
   "outputs": [
    {
     "name": "stdout",
     "output_type": "stream",
     "text": [
      "bcd\n",
      "bc\n",
      "efghijklmnopqrstuvwx\n",
      "wxy\n",
      "wxyz\n"
     ]
    }
   ],
   "source": [
    "#Q4.12\n",
    "s = 'abcdefghijklmnopqrstuvwxyz'\n",
    "print(s[1:4])\n",
    "print(s[1:3])\n",
    "print(s[4:24])\n",
    "print(s[22:25])\n",
    "print(s[22:])"
   ]
  },
  {
   "cell_type": "code",
   "execution_count": 7,
   "metadata": {},
   "outputs": [
    {
     "name": "stdout",
     "output_type": "stream",
     "text": [
      "True\n",
      "True\n",
      "True\n",
      "True\n"
     ]
    }
   ],
   "source": [
    "#Q4.13\n",
    "s = 'abcdefghijklmnopqrstuvwxyz'\n",
    "print(s[1:3]=='bc')\n",
    "print(s[:14]=='abcdefghijklmn')\n",
    "print(s[14:]=='opqrstuvwxyz')\n",
    "print(s[1:-1]=='bcdefghijklmnopqrstuvwxy')\n"
   ]
  },
  {
   "cell_type": "code",
   "execution_count": 2,
   "metadata": {},
   "outputs": [
    {
     "name": "stdout",
     "output_type": "stream",
     "text": [
      "Enter first word: \"muaz\"\n",
      "Enter second word: \"nabeel\"\n",
      "Enter third word: \"uit\"\n",
      "True\n"
     ]
    }
   ],
   "source": [
    "#Q4.16\n",
    "word1 = str(input(\"Enter first word: \"))\n",
    "word2 = str(input(\"Enter second word: \"))\n",
    "word3 = str(input(\"Enter third word: \"))\n",
    "if word1 < word2 and word2 < word3 :\n",
    "        \n",
    "    print(True)"
   ]
  },
  {
   "cell_type": "code",
   "execution_count": 3,
   "metadata": {},
   "outputs": [
    {
     "name": "stdout",
     "output_type": "stream",
     "text": [
      "The xxxxxx of this message is that it is xxxxxx.\n"
     ]
    }
   ],
   "source": [
    "#Q4.17\n",
    "message=\"The secret of this message is that it is secret.\"\n",
    "lenght=len(message)\n",
    "count=message.count('secret')\n",
    "re=message.replace('secret','xxxxxx')\n",
    "print(re)"
   ]
  },
  {
   "cell_type": "code",
   "execution_count": 5,
   "metadata": {},
   "outputs": [
    {
     "name": "stdout",
     "output_type": "stream",
     "text": [
      "Feb\n"
     ]
    }
   ],
   "source": []
  },
  {
   "cell_type": "code",
   "execution_count": 6,
   "metadata": {},
   "outputs": [
    {
     "name": "stdout",
     "output_type": "stream",
     "text": [
      "How do you spell winner? \n",
      "I know,I know!\n",
      " NAVI\n",
      "And thats how you spell winner! \n",
      "Go NAVI!"
     ]
    }
   ],
   "source": [
    "#Q4.24\n",
    "def cheer(team):\n",
    "    print('How do you spell winner? \\nI know,I know!\\n',team.upper(),end='' )\n",
    "    print('\\nAnd thats how you spell winner! \\nGo',team.upper(),end='!')\n",
    "cheer('Navi')"
   ]
  },
  {
   "cell_type": "code",
   "execution_count": 7,
   "metadata": {},
   "outputs": [
    {
     "name": "stdout",
     "output_type": "stream",
     "text": [
      "a,e,i,o,u appears respectively 1,3,0,1,1 times\n"
     ]
    }
   ],
   "source": [
    "#Q4.25\n",
    "def vowelcount(text):\n",
    "    a=text.count(\"a\")\n",
    "    b=text.count(\"e\")\n",
    "    c=text.count(\"i\")\n",
    "    d=text.count(\"o\")\n",
    "    e=text.count(\"u\")\n",
    "    print('a,e,i,o,u appears respectively {},{},{},{},{} times'.format(a,b,c,d,e))\n",
    "vowelcount('Le Tour de France')"
   ]
  },
  {
   "cell_type": "code",
   "execution_count": 11,
   "metadata": {},
   "outputs": [
    {
     "name": "stdout",
     "output_type": "stream",
     "text": [
      "2\n"
     ]
    }
   ],
   "source": []
  },
  {
   "cell_type": "code",
   "execution_count": null,
   "metadata": {},
   "outputs": [],
   "source": []
  },
  {
   "cell_type": "code",
   "execution_count": null,
   "metadata": {},
   "outputs": [],
   "source": []
  }
 ],
 "metadata": {
  "kernelspec": {
   "display_name": "Python 3",
   "language": "python",
   "name": "python3"
  },
  "language_info": {
   "codemirror_mode": {
    "name": "ipython",
    "version": 3
   },
   "file_extension": ".py",
   "mimetype": "text/x-python",
   "name": "python",
   "nbconvert_exporter": "python",
   "pygments_lexer": "ipython3",
   "version": "3.7.3"
  }
 },
 "nbformat": 4,
 "nbformat_minor": 2
}
